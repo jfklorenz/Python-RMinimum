{
 "cells": [
  {
   "cell_type": "markdown",
   "metadata": {},
   "source": [
    "RMinimum : Phase 1 - Test"
   ]
  },
  {
   "cell_type": "code",
   "execution_count": 3,
   "metadata": {},
   "outputs": [],
   "source": [
    "import random"
   ]
  },
  {
   "cell_type": "markdown",
   "metadata": {},
   "source": [
    "Testfall : $X = [0, \\cdots, n-1]$"
   ]
  },
  {
   "cell_type": "code",
   "execution_count": 4,
   "metadata": {},
   "outputs": [
    {
     "name": "stdout",
     "output_type": "stream",
     "text": [
      "          Testcase:          \n",
      "=============================\n",
      "Parameter\n",
      "---------\n",
      "X = [0, ..., 1023]\n",
      "=============================\n"
     ]
    }
   ],
   "source": [
    "# User input\n",
    "n = 2**10\n",
    "\n",
    "# Automatic\n",
    "X = [i for i in range(n)]\n",
    "cnt = [0 for _ in range(n)]\n",
    "\n",
    "# Show Testcase\n",
    "print('          Testcase:          ')\n",
    "print('=============================')\n",
    "if n % 2 == 1:\n",
    "    print('No valid testcase. n must be even.')\n",
    "else:\n",
    "    print('Parameter')\n",
    "    print('---------')\n",
    "    print('X = [0, ..., ' + str(n - 1) + ']')\n",
    "print('=============================')"
   ]
  },
  {
   "cell_type": "markdown",
   "metadata": {},
   "source": [
    "Algorithmus : Phase 1"
   ]
  },
  {
   "cell_type": "code",
   "execution_count": 5,
   "metadata": {},
   "outputs": [
    {
     "name": "stdout",
     "output_type": "stream",
     "text": [
      "1.9 ms ± 4.23 µs per loop (mean ± std. dev. of 7 runs, 1000 loops each)\n"
     ]
    }
   ],
   "source": [
    "def phase1(lst, cnt):\n",
    "    \n",
    "    random.shuffle(lst)\n",
    "\n",
    "    W = [0 for _ in range(len(lst) // 2)]\n",
    "    L = [0 for _ in range(len(lst) // 2)]\n",
    "\n",
    "    for i in range(len(lst) // 2):\n",
    "        if lst[2 * i] > lst[2 * i + 1]:\n",
    "            W[i] = lst[2 * i + 1]\n",
    "            L[i] = lst[2 * i]\n",
    "        else:\n",
    "            W[i] = lst[2 * i]\n",
    "            L[i] = lst[2 * i + 1]\n",
    "        cnt[lst[2 * i + 1]] += 1\n",
    "        cnt[lst[2 * i]] += 1\n",
    "\n",
    "    return W, L, cnt\n",
    "\n",
    "# ==================================================\n",
    "# Testfall\n",
    "W, L, cnt = phase1(X, cnt)"
   ]
  },
  {
   "cell_type": "markdown",
   "metadata": {},
   "source": [
    "Resultat :"
   ]
  },
  {
   "cell_type": "code",
   "execution_count": 7,
   "metadata": {},
   "outputs": [
    {
     "name": "stdout",
     "output_type": "stream",
     "text": [
      "\n",
      "Testfall n : 1024\n",
      "====================================\n",
      "Size of subsets:\n",
      "----------------\n",
      "|W| : 512\n",
      "|L| : 512\n",
      "====================================\n",
      "Fragile Complexity:\n",
      "-------------------\n",
      "max(f_e(n)) : 8112\n",
      "min(f_e(n)) : 8112\n",
      "====================================\n",
      "Process:\n",
      "--------\n",
      "min in W : True\n",
      "====================================\n"
     ]
    }
   ],
   "source": [
    "def test(X, W, L, cnt):\n",
    "    print('')\n",
    "    print('Testfall n :', len(X))\n",
    "    print('====================================')\n",
    "    print('Size of subsets:')\n",
    "    print('----------------')\n",
    "    print('|W| :', len(W))\n",
    "    print('|L| :', len(L))\n",
    "    print('====================================')\n",
    "    print('Fragile Complexity:')\n",
    "    print('-------------------')\n",
    "    print('max(f_e(n)) :', max(cnt))\n",
    "    print('min(f_e(n)) :', min(cnt))\n",
    "    print('====================================')\n",
    "    print('Process:')\n",
    "    print('--------')\n",
    "    print('min in W :', min(X) in W)\n",
    "    print('====================================')\n",
    "    return\n",
    "\n",
    "# ==================================================\n",
    "# Testfall\n",
    "test(X, W, L, cnt)"
   ]
  },
  {
   "cell_type": "code",
   "execution_count": null,
   "metadata": {},
   "outputs": [],
   "source": []
  }
 ],
 "metadata": {
  "kernelspec": {
   "display_name": "Python 3",
   "language": "python",
   "name": "python3"
  },
  "language_info": {
   "codemirror_mode": {
    "name": "ipython",
    "version": 3
   },
   "file_extension": ".py",
   "mimetype": "text/x-python",
   "name": "python",
   "nbconvert_exporter": "python",
   "pygments_lexer": "ipython3",
   "version": "3.6.5"
  }
 },
 "nbformat": 4,
 "nbformat_minor": 1
}
