{
 "cells": [
  {
   "cell_type": "markdown",
   "metadata": {},
   "source": [
    "RMinimum : Full - Test - Case: $k(n) = n^{\\varepsilon}$"
   ]
  },
  {
   "cell_type": "code",
   "execution_count": 1,
   "metadata": {},
   "outputs": [],
   "source": [
    "import math\n",
    "import random\n",
    "import queue"
   ]
  },
  {
   "cell_type": "markdown",
   "metadata": {},
   "source": [
    "Testfälle : $k(n) = n^(1/2)$"
   ]
  },
  {
   "cell_type": "code",
   "execution_count": 2,
   "metadata": {},
   "outputs": [],
   "source": [
    "# User input\n",
    "n = 2**16\n",
    "eps = 0.5\n",
    "\n",
    "# Automatic generation: k = n^eps, X = [0, ..., n-1]\n",
    "k = int(n**eps)\n",
    "X = [i for i in range(n)]"
   ]
  },
  {
   "cell_type": "markdown",
   "metadata": {},
   "source": [
    "Algorithmus : Full"
   ]
  },
  {
   "cell_type": "code",
   "execution_count": 3,
   "metadata": {},
   "outputs": [],
   "source": [
    "def rminimum(X,k, cnt = []):\n",
    "    k = int(k)\n",
    "    n = len(X)\n",
    "    if cnt == []:\n",
    "        cnt = [0 for _ in range(len(X))]\n",
    "\n",
    "    if len(X) == 3:\n",
    "        if X[0] < X[1]:\n",
    "            cnt[X[0]] += 2\n",
    "            cnt[X[1]] += 1\n",
    "            cnt[X[2]] += 1\n",
    "\n",
    "            if X[0] < X[2]:\n",
    "                X = X[0]\n",
    "            else:\n",
    "                X = X[2]\n",
    "\n",
    "        else:\n",
    "            cnt[X[0]] += 1\n",
    "            cnt[X[1]] += 2\n",
    "            cnt[X[2]] += 1\n",
    "\n",
    "            if X[1] < X[2]:\n",
    "                X = X[1]\n",
    "            else:\n",
    "                X = X[2]\n",
    "\n",
    "        return cnt\n",
    "\n",
    "    W, L, cnt = RMinimum_step1(X, cnt)\n",
    "    minele, cnt = RMinimum_step2(L, k, cnt)\n",
    "    res3, cnt = RMinimum_step3(W, k, minele, cnt)\n",
    "    res4, cnt = RMinimum_step4(res3, k, n, cnt)\n",
    "\n",
    "    return cnt\n",
    "\n",
    "# ==================================================\n",
    "def RMinimum_step1(lst, cnt):\n",
    "\n",
    "    random.shuffle(lst)\n",
    "\n",
    "    W = [0 for _ in range(len(lst) // 2)]\n",
    "    L = [0 for _ in range(len(lst) // 2)]\n",
    "\n",
    "    for i in range(len(lst) // 2):\n",
    "        if lst[2 * i] > lst[2 * i + 1]:\n",
    "            W[i] = lst[2 * i + 1]\n",
    "            L[i] = lst[2 * i]\n",
    "        else:\n",
    "            W[i] = lst[2 * i]\n",
    "            L[i] = lst[2 * i + 1]\n",
    "        cnt[lst[2 * i + 1]] += 1\n",
    "        cnt[lst[2 * i]] += 1\n",
    "\n",
    "    return W, L, cnt\n",
    "\n",
    "# ==================================================\n",
    "def RMinimum_step2(L, k, cnt):\n",
    "\n",
    "    random.shuffle(L)\n",
    "    res = [L[i * k:(i + 1) * k] for i in range((len(L) + k - 1) // k)]\n",
    "    minele = [0 for _ in range(len(res))]\n",
    "\n",
    "    var = list(res)\n",
    "    for i in range(len(var)):\n",
    "        q = queue.Queue()\n",
    "\n",
    "        for item in var[i]:\n",
    "            q.put(item)\n",
    "\n",
    "        while q.qsize() > 1:\n",
    "            a = q.get()\n",
    "            b = q.get()\n",
    "\n",
    "            if a < b:\n",
    "                q.put(a)\n",
    "            else:\n",
    "                q.put(b)\n",
    "            cnt[a] += 1\n",
    "            cnt[b] += 1\n",
    "        minele[i] = q.get()\n",
    "\n",
    "    return minele, cnt\n",
    "\n",
    "# ==================================================\n",
    "def RMinimum_step3(lst, k, minele, cnt):\n",
    "\n",
    "    random.shuffle(lst)\n",
    "    var = [lst[i * k:(i + 1) * k] for i in range((len(lst) + k - 1) // k)]\n",
    "    res = [0 for _ in range(len(var))]\n",
    "\n",
    "    for i in range(len(var)):\n",
    "        res[i] = [elem for elem in var[i] if elem < minele[i]]\n",
    "        cnt[minele[i]] += len(var[i])\n",
    "        for elem in var[i]:\n",
    "            cnt[elem] += 1\n",
    "\n",
    "    res = [item for sublist in res for item in sublist]\n",
    "\n",
    "    return res, cnt\n",
    "\n",
    "# ==================================================\n",
    "def RMinimum_step4(newW, k, n, cnt):\n",
    "\n",
    "    if len(newW) <= (math.log(n)/math.log(2))**2:\n",
    "        q = queue.Queue()\n",
    "\n",
    "        var = list(newW)\n",
    "        for item in var:\n",
    "            q.put(item)\n",
    "        while q.qsize() > 1:\n",
    "            a = q.get()\n",
    "            b = q.get()\n",
    "\n",
    "            if a < b:\n",
    "                q.put(a)\n",
    "            else:\n",
    "                q.put(b)\n",
    "\n",
    "            cnt[a] += 1\n",
    "            cnt[b] += 1\n",
    "        res = q.get()\n",
    "\n",
    "    else:\n",
    "        res = rminimum(newW,k, cnt)\n",
    "\n",
    "    return res, cnt\n",
    "\n",
    "# ==================================================\n",
    "# Testfall\n",
    "cnt = rminimum(X, k)"
   ]
  },
  {
   "cell_type": "markdown",
   "metadata": {},
   "source": [
    "Resultat :"
   ]
  },
  {
   "cell_type": "code",
   "execution_count": 4,
   "metadata": {},
   "outputs": [
    {
     "name": "stdout",
     "output_type": "stream",
     "text": [
      "\n",
      "Testfall n / k: 65536 / 256\n",
      "====================================\n",
      "f_min    : 9\n",
      "E[f_min] : 8.0\n",
      "------------------------------------\n",
      "f_rem    : 267\n",
      "E[f_rem] : 256\n",
      "------------------------------------\n",
      "Work     : 103576\n",
      "O(n)     : 65536\n",
      "====================================\n"
     ]
    }
   ],
   "source": [
    "def test(X, eps, k, cnt):\n",
    "    \n",
    "    n = len(X)\n",
    "    \n",
    "    loglog = round((eps**(-1) * (math.log(n)/math.log(2)) / (math.log(math.log(n)/math.log(2))/math.log(2))), 2)\n",
    "    f_min = cnt[0]\n",
    "    f_rem = max(cnt[1:])\n",
    "    work = int(sum(cnt)/2)\n",
    "    \n",
    "    print('')\n",
    "    print('Testfall n / k:', n, '/', k)\n",
    "    print('====================================')\n",
    "    print('f_min    :', f_min)\n",
    "    print('E[f_min] :', loglog)\n",
    "    print('------------------------------------')    \n",
    "    print('f_rem    :', f_rem)\n",
    "    print('E[f_rem] :', int(n**eps))\n",
    "    print('------------------------------------')\n",
    "    print('Work     :', work)\n",
    "    print('O(n)     :', n)\n",
    "    print('====================================')\n",
    "    return\n",
    "\n",
    "# Testfall\n",
    "test(X, eps, k, cnt)"
   ]
  },
  {
   "cell_type": "code",
   "execution_count": null,
   "metadata": {},
   "outputs": [],
   "source": []
  },
  {
   "cell_type": "code",
   "execution_count": null,
   "metadata": {},
   "outputs": [],
   "source": []
  },
  {
   "cell_type": "code",
   "execution_count": null,
   "metadata": {},
   "outputs": [],
   "source": []
  },
  {
   "cell_type": "code",
   "execution_count": null,
   "metadata": {},
   "outputs": [],
   "source": []
  }
 ],
 "metadata": {
  "kernelspec": {
   "display_name": "Python 3",
   "language": "python",
   "name": "python3"
  },
  "language_info": {
   "codemirror_mode": {
    "name": "ipython",
    "version": 3
   },
   "file_extension": ".py",
   "mimetype": "text/x-python",
   "name": "python",
   "nbconvert_exporter": "python",
   "pygments_lexer": "ipython3",
   "version": "3.6.4"
  }
 },
 "nbformat": 4,
 "nbformat_minor": 1
}
