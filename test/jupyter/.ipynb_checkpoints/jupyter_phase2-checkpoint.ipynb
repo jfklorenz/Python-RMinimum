{
 "cells": [
  {
   "cell_type": "markdown",
   "metadata": {},
   "source": [
    "RMinimum : Phase 2 - Jupyter"
   ]
  },
  {
   "cell_type": "code",
   "execution_count": 2,
   "metadata": {},
   "outputs": [],
   "source": [
    "# Imports\n",
    "import random\n",
    "import queue\n",
    "import math"
   ]
  },
  {
   "cell_type": "markdown",
   "metadata": {},
   "source": [
    "Testfall : $L = [0, \\cdots, n-1]$, $k$"
   ]
  },
  {
   "cell_type": "code",
   "execution_count": 3,
   "metadata": {},
   "outputs": [
    {
     "name": "stdout",
     "output_type": "stream",
     "text": [
      "          Testcase:          \n",
      "=============================\n",
      "Parameter\n",
      "---------\n",
      "X = [0, ..., 19]\n",
      "k = 5\n",
      "=============================\n",
      "Case\n",
      "----\n",
      "k(n) = n^eps for 1/2, 1/4, ...  : False\n",
      "Floored k(n) = log(n)/loglog(n) : False\n",
      "Ceiled  k(n) = log(n)/loglog(n) : False\n",
      "=============================\n"
     ]
    }
   ],
   "source": [
    "# User input\n",
    "n = 20\n",
    "k = 5\n",
    "\n",
    "# Automatic\n",
    "L = [i for i in range(n)]\n",
    "cnt = [0 for _ in range(n)]\n",
    "\n",
    "kf = math.floor(math.log(n, 2)/math.log(math.log(n, 2), 2)) == k\n",
    "kc = math.ceil(math.log(n, 2)/math.log(math.log(n, 2), 2)) == k\n",
    "ke = False\n",
    "for i in range(1, 10):\n",
    "    if int(k) == int(n**(1/(2**i))):\n",
    "        ke = True\n",
    "\n",
    "# Show Testcase\n",
    "print('          Testcase:          ')\n",
    "print('=============================')\n",
    "if not isinstance(k, int):\n",
    "    print('No valid testcase. k(n) must be an INT value.')\n",
    "elif n % 2 == 1:\n",
    "    print('No valid testcase. n must be even.')\n",
    "else:\n",
    "    print('Parameter')\n",
    "    print('---------')\n",
    "    print('L = [0, ..., ' + str(n - 1) + ']')\n",
    "    print('k =', k)\n",
    "    print('=============================')\n",
    "    print('Case')\n",
    "    print('----')\n",
    "    print('k(n) = n^eps for 1/2, 1/4, ...  :', ke)\n",
    "    print('Floored k(n) = log(n)/loglog(n) :', kf)\n",
    "    print('Ceiled  k(n) = log(n)/loglog(n) :', kc)\n",
    "print('=============================')"
   ]
  },
  {
   "cell_type": "markdown",
   "metadata": {},
   "source": [
    "Algorithmus : Phase 2"
   ]
  },
  {
   "cell_type": "code",
   "execution_count": 5,
   "metadata": {},
   "outputs": [
    {
     "name": "stdout",
     "output_type": "stream",
     "text": [
      "382 µs ± 2.13 µs per loop (mean ± std. dev. of 7 runs, 1000 loops each)\n"
     ]
    }
   ],
   "source": [
    "def phase2(L, k, cnt):\n",
    "\n",
    "    random.shuffle(L)\n",
    "    \n",
    "    subsets = [L[i * k:(i + 1) * k] for i in range((len(L) + k - 1) // k)]\n",
    "    M = [0 for _ in range(len(subsets))]\n",
    "\n",
    "    for i in range(len(subsets)):\n",
    "        q = queue.Queue()\n",
    "\n",
    "        for ele in subsets[i]:\n",
    "            q.put(ele)\n",
    "\n",
    "        while q.qsize() > 1:\n",
    "            a = q.get()\n",
    "            b = q.get()\n",
    "\n",
    "            if a < b:\n",
    "                q.put(a)\n",
    "            else:\n",
    "                q.put(b)\n",
    "            cnt[a] += 1\n",
    "            cnt[b] += 1\n",
    "        M[i] = q.get()\n",
    "\n",
    "    return M, subsets, cnt\n",
    "\n",
    "# ==================================================\n",
    "# Testfall\n",
    "M, subsets, cnt = phase2(L, k, cnt)"
   ]
  },
  {
   "cell_type": "markdown",
   "metadata": {},
   "source": [
    "Resultat :"
   ]
  },
  {
   "cell_type": "code",
   "execution_count": 8,
   "metadata": {},
   "outputs": [
    {
     "name": "stdout",
     "output_type": "stream",
     "text": [
      "\n",
      "Testfall n / k : 20 / 5\n",
      "====================================\n",
      "Size of subsets:\n",
      "----------------\n",
      "|L_i| : 5\n",
      "# L_i : 4\n",
      "|M|   : 4\n",
      "====================================\n",
      "Fragile Complexity:\n",
      "-------------------\n",
      "log(k)   : 3\n",
      "min(f_l(n)) : 8113\n",
      "max(f_l(n)) : 19510\n",
      "====================================\n"
     ]
    }
   ],
   "source": [
    "def test(L, k, M, subsets, cnt):\n",
    "    print('')\n",
    "    print('Testfall n / k :', len(L), '/', k)\n",
    "    print('====================================')\n",
    "    print('Size of subsets:')\n",
    "    print('----------------')\n",
    "    print('|L_i| :', len(subsets[0]))\n",
    "    print('# L_i :', len(subsets))\n",
    "    print('|M|   :', len(M))\n",
    "    print('====================================')\n",
    "    print('Fragile Complexity:')\n",
    "    print('-------------------')\n",
    "    print('log(k)   :', math.ceil(math.log(k)/math.log(2)))\n",
    "    print('min(f_l(n)) :', min(cnt))\n",
    "    print('max(f_l(n)) :', max(cnt))\n",
    "    print('====================================')\n",
    "    return\n",
    "\n",
    "# ==================================================\n",
    "# Testfall\n",
    "test(L, k, M, subsets, cnt)"
   ]
  },
  {
   "cell_type": "code",
   "execution_count": null,
   "metadata": {},
   "outputs": [],
   "source": []
  }
 ],
 "metadata": {
  "kernelspec": {
   "display_name": "Python 3",
   "language": "python",
   "name": "python3"
  },
  "language_info": {
   "codemirror_mode": {
    "name": "ipython",
    "version": 3
   },
   "file_extension": ".py",
   "mimetype": "text/x-python",
   "name": "python",
   "nbconvert_exporter": "python",
   "pygments_lexer": "ipython3",
   "version": "3.6.5"
  }
 },
 "nbformat": 4,
 "nbformat_minor": 1
}
