{
 "cells": [
  {
   "cell_type": "markdown",
   "metadata": {},
   "source": [
    "RMinimum : Runtime"
   ]
  },
  {
   "cell_type": "markdown",
   "metadata": {},
   "source": [
    "This file is for testing the runtime of the algorithm and each of the phases."
   ]
  },
  {
   "cell_type": "code",
   "execution_count": 2,
   "metadata": {},
   "outputs": [],
   "source": [
    "import math\n",
    "import random\n",
    "import queue"
   ]
  },
  {
   "cell_type": "markdown",
   "metadata": {},
   "source": [
    "Runtime : RMinimum"
   ]
  },
  {
   "cell_type": "code",
   "execution_count": 3,
   "metadata": {},
   "outputs": [
    {
     "name": "stdout",
     "output_type": "stream",
     "text": [
      "4.54 ms ± 16.7 µs per loop (mean ± std. dev. of 7 runs, 100 loops each)\n"
     ]
    }
   ],
   "source": [
    "# User input\n",
    "n = 2**8\n",
    "k = 2**2+0.2\n",
    "\n",
    "# Automatic\n",
    "X = [i for i in range(n)]\n",
    "\n",
    "# ==================================================================\n",
    "def rminimum(X, k, cnt = [], rec = 0):\n",
    "\n",
    "    # Generate empty cnt list if its not a recursive call\n",
    "    if cnt == []:\n",
    "        cnt = [0 for _ in range(max(X) + 1)]\n",
    "\n",
    "    # Convert parameters if needed\n",
    "    k = int(k)\n",
    "    n = len(X)\n",
    "\n",
    "    # Base case |X| = 3\n",
    "    if len(X) == 3:\n",
    "        if X[0] < X[1]:\n",
    "            cnt[X[0]] += 2\n",
    "            cnt[X[1]] += 1\n",
    "            cnt[X[2]] += 1\n",
    "\n",
    "            if X[0] < X[2]:\n",
    "                mini = X[0]\n",
    "            else:\n",
    "                mini = X[2]\n",
    "        else:\n",
    "            cnt[X[0]] += 1\n",
    "            cnt[X[1]] += 2\n",
    "            cnt[X[2]] += 1\n",
    "\n",
    "            if X[1] < X[2]:\n",
    "                mini = X[1]\n",
    "            else:\n",
    "                mini = X[2]\n",
    "        return mini, cnt, rec\n",
    "\n",
    "    # Run phases\n",
    "    W, L, cnt = phase1(X, cnt)\n",
    "    M, cnt = phase2(L, k, cnt)\n",
    "    Wnew, cnt = phase3(W, k, M, cnt)\n",
    "    mini, cnt, rec = phase4(Wnew, k, n, cnt, rec)\n",
    "\n",
    "    return mini, cnt, rec\n",
    "\n",
    "# --------------------------------------------------\n",
    "#   Phase 1\n",
    "def phase1(X, cnt):\n",
    "\n",
    "    # Init W, L\n",
    "    W = [0 for _ in range(len(X) // 2)]\n",
    "    L = [0 for _ in range(len(X) // 2)]\n",
    "\n",
    "    # Random pairs\n",
    "    random.shuffle(X)\n",
    "    for i in range(len(X) // 2):\n",
    "        if X[2 * i] > X[2 * i + 1]:\n",
    "            W[i] = X[2 * i + 1]\n",
    "            L[i] = X[2 * i]\n",
    "        else:\n",
    "            W[i] = X[2 * i]\n",
    "            L[i] = X[2 * i + 1]\n",
    "        cnt[X[2 * i + 1]] += 1\n",
    "        cnt[X[2 * i]] += 1\n",
    "\n",
    "    return W, L, cnt\n",
    "\n",
    "# --------------------------------------------------\n",
    "#   Phase 2\n",
    "def phase2(L, k, cnt):\n",
    "\n",
    "    # Generate subsets\n",
    "    random.shuffle(L)\n",
    "    subsets = [L[i * k:(i + 1) * k] for i in range((len(L) + k - 1) // k)]\n",
    "\n",
    "    # Init M\n",
    "    M = [0 for _ in range(len(subsets))]\n",
    "\n",
    "    # Perfectly balanced tournament tree using a Queue\n",
    "    for i in range(len(subsets)):\n",
    "        q = queue.Queue()\n",
    "\n",
    "        for ele in subsets[i]:\n",
    "            q.put(ele)\n",
    "\n",
    "        while q.qsize() > 1:\n",
    "            a = q.get()\n",
    "            b = q.get()\n",
    "\n",
    "            if a < b:\n",
    "                q.put(a)\n",
    "            else:\n",
    "                q.put(b)\n",
    "            cnt[a] += 1\n",
    "            cnt[b] += 1\n",
    "        M[i] = q.get()\n",
    "\n",
    "    return M, cnt\n",
    "\n",
    "# --------------------------------------------------\n",
    "#   Phase 3\n",
    "def phase3(W, k, M, cnt):\n",
    "\n",
    "    # Generate subsets\n",
    "    random.shuffle(W)\n",
    "    W_i = [W[i * k:(i + 1) * k] for i in range((len(W) + k - 1) // k)]\n",
    "    W_i_filt = [0 for _ in range(len(W_i))]\n",
    "\n",
    "    # Filter subsets\n",
    "    for i in range(len(W_i_filt)):\n",
    "        W_i_filt[i] = [elem for elem in W_i[i] if elem < M[i]]\n",
    "        cnt[M[i]] += len(W_i[i])\n",
    "        for elem in W_i[i]:\n",
    "            cnt[elem] += 1\n",
    "\n",
    "    # Merge subsets\n",
    "    Wnew = [w for sublist in W_i_filt for w in sublist]\n",
    "\n",
    "    return Wnew, cnt\n",
    "\n",
    "# --------------------------------------------------\n",
    "#   Phase 4\n",
    "def phase4(Wnew, k, n0, cnt, rec):\n",
    "    \n",
    "    # Recursive call check\n",
    "    if len(Wnew) <= math.log(n0, 2) ** 2:\n",
    "        q = queue.Queue()\n",
    "\n",
    "        for ele in Wnew:\n",
    "            q.put(ele)\n",
    "        while q.qsize() > 1:\n",
    "            a = q.get()\n",
    "            b = q.get()\n",
    "\n",
    "            if a < b:\n",
    "                q.put(a)\n",
    "            else:\n",
    "                q.put(b)\n",
    "\n",
    "            cnt[a] += 1\n",
    "            cnt[b] += 1\n",
    "        mini = q.get()\n",
    "        return mini, cnt, rec\n",
    "\n",
    "    else:\n",
    "        rec += 1\n",
    "        return rminimum(Wnew, k, cnt, rec)\n",
    "\n",
    "# ==================================================\n",
    "# Runtime\n",
    "% timeit rminimum(X, k)"
   ]
  },
  {
   "cell_type": "markdown",
   "metadata": {},
   "source": [
    "Runtime : Phase 1"
   ]
  },
  {
   "cell_type": "code",
   "execution_count": 4,
   "metadata": {},
   "outputs": [
    {
     "name": "stdout",
     "output_type": "stream",
     "text": [
      "427 µs ± 3.1 µs per loop (mean ± std. dev. of 7 runs, 1000 loops each)\n"
     ]
    }
   ],
   "source": [
    "# User input\n",
    "n = 2**8\n",
    "\n",
    "# Automatic\n",
    "X = [i for i in range(n)]\n",
    "cnt = [0 for _ in range(n)]\n",
    "\n",
    "# ==================================================\n",
    "def phase1(lst, cnt):\n",
    "    \n",
    "    random.shuffle(lst)\n",
    "\n",
    "    W = [0 for _ in range(len(lst) // 2)]\n",
    "    L = [0 for _ in range(len(lst) // 2)]\n",
    "\n",
    "    for i in range(len(lst) // 2):\n",
    "        if lst[2 * i] > lst[2 * i + 1]:\n",
    "            W[i] = lst[2 * i + 1]\n",
    "            L[i] = lst[2 * i]\n",
    "        else:\n",
    "            W[i] = lst[2 * i]\n",
    "            L[i] = lst[2 * i + 1]\n",
    "        cnt[lst[2 * i + 1]] += 1\n",
    "        cnt[lst[2 * i]] += 1\n",
    "\n",
    "    return W, L, cnt\n",
    "\n",
    "# ==================================================\n",
    "# Runtime\n",
    "% timeit phase1(X, cnt)"
   ]
  },
  {
   "cell_type": "markdown",
   "metadata": {},
   "source": [
    "Runtime : Phase 2"
   ]
  },
  {
   "cell_type": "code",
   "execution_count": 5,
   "metadata": {},
   "outputs": [
    {
     "name": "stdout",
     "output_type": "stream",
     "text": [
      "4.97 ms ± 27 µs per loop (mean ± std. dev. of 7 runs, 100 loops each)\n"
     ]
    }
   ],
   "source": [
    "# User input\n",
    "n = 2**8\n",
    "k = 2**2\n",
    "\n",
    "# Automatic\n",
    "L = [i for i in range(n)]\n",
    "cnt = [0 for _ in range(n)]\n",
    "\n",
    "# ==================================================\n",
    "def phase2(L, k, cnt):\n",
    "\n",
    "    random.shuffle(L)\n",
    "    \n",
    "    subsets = [L[i * k:(i + 1) * k] for i in range((len(L) + k - 1) // k)]\n",
    "    M = [0 for _ in range(len(subsets))]\n",
    "\n",
    "    for i in range(len(subsets)):\n",
    "        q = queue.Queue()\n",
    "\n",
    "        for ele in subsets[i]:\n",
    "            q.put(ele)\n",
    "\n",
    "        while q.qsize() > 1:\n",
    "            a = q.get()\n",
    "            b = q.get()\n",
    "\n",
    "            if a < b:\n",
    "                q.put(a)\n",
    "            else:\n",
    "                q.put(b)\n",
    "            cnt[a] += 1\n",
    "            cnt[b] += 1\n",
    "        M[i] = q.get()\n",
    "\n",
    "    return M, subsets, cnt\n",
    "\n",
    "# ==================================================\n",
    "# Runtime\n",
    "% timeit phase2(L, k, cnt)"
   ]
  },
  {
   "cell_type": "markdown",
   "metadata": {},
   "source": [
    "Runtime : Phase 3"
   ]
  },
  {
   "cell_type": "code",
   "execution_count": 6,
   "metadata": {},
   "outputs": [
    {
     "name": "stdout",
     "output_type": "stream",
     "text": [
      "391 µs ± 3.67 µs per loop (mean ± std. dev. of 7 runs, 1000 loops each)\n"
     ]
    }
   ],
   "source": [
    "# User input\n",
    "n = 2**8\n",
    "k = 2**4\n",
    "\n",
    "# Automatic\n",
    "# W = [0, ..., 3/4 * n - 1, 3/4 * n + n/k, ..., n + n/k ]\n",
    "# M = [3/4 * n, ..., 3/4 * n + n/k - 1]\n",
    "W = [i for i in range(int(n + math.ceil(n / k)))]\n",
    "M = [i for i in range(int(3 / 4 * n), int(3 / 4 * n + math.ceil(n / k)))]\n",
    "for m in M:\n",
    "    if m in W:\n",
    "        W.remove(m)\n",
    "cnt = [0 for _ in range(int(n + math.ceil(n / k)))]\n",
    "\n",
    "# ==================================================\n",
    "def phase3(W, k, M, cnt):\n",
    "    random.shuffle(W)\n",
    "    subsets = [W[i * k:(i + 1) * k] for i in range((len(W) + k - 1) // k)]\n",
    "    subsets_filtered = [0 for _ in range(len(subsets))]\n",
    "\n",
    "    for i in range(len(subsets_filtered)):\n",
    "        subsets_filtered[i] = [elem for elem in subsets[i] if elem < M[i]]\n",
    "        cnt[M[i]] += len(subsets[i])\n",
    "        for elem in subsets[i]:\n",
    "            cnt[elem] += 1\n",
    "\n",
    "    Wnew = [item for sublist in subsets_filtered for item in sublist]\n",
    "    \n",
    "    return subsets, subsets_filtered, Wnew, cnt\n",
    "\n",
    "# ==================================================\n",
    "# Runtime\n",
    "% timeit phase3(W, k, M, cnt)"
   ]
  },
  {
   "cell_type": "markdown",
   "metadata": {},
   "source": [
    "Runtime : Phase 4"
   ]
  },
  {
   "cell_type": "code",
   "execution_count": null,
   "metadata": {},
   "outputs": [],
   "source": [
    "# User input\n",
    "n = 2**10\n",
    "n0 = 2**32\n",
    "\n",
    "# Automatic\n",
    "Wnew = [i for i in range(n)]\n",
    "cnt = [0 for _ in range(n)]\n",
    "\n",
    "# ==================================================\n",
    "def phase4(Wnew, n0, cnt):\n",
    "\n",
    "    if len(Wnew) <= math.log(n0, 2)**2:\n",
    "        q = queue.Queue()\n",
    "\n",
    "        for ele in Wnew:\n",
    "            q.put(ele)\n",
    "        while q.qsize() > 1:\n",
    "            a = q.get()\n",
    "            b = q.get()\n",
    "\n",
    "            if a < b:\n",
    "                q.put(a)\n",
    "            else:\n",
    "                q.put(b)\n",
    "\n",
    "            cnt[a] += 1\n",
    "            cnt[b] += 1\n",
    "        mini = q.get()\n",
    "        \n",
    "        return mini, cnt\n",
    "    \n",
    "    else:\n",
    "        return False, cnt\n",
    "\n",
    "# ==================================================\n",
    "# Runtime\n",
    "% timeit phase4(Wnew, n0, cnt)"
   ]
  },
  {
   "cell_type": "code",
   "execution_count": null,
   "metadata": {},
   "outputs": [],
   "source": []
  }
 ],
 "metadata": {
  "kernelspec": {
   "display_name": "Python 3",
   "language": "python",
   "name": "python3"
  },
  "language_info": {
   "codemirror_mode": {
    "name": "ipython",
    "version": 3
   },
   "file_extension": ".py",
   "mimetype": "text/x-python",
   "name": "python",
   "nbconvert_exporter": "python",
   "pygments_lexer": "ipython3",
   "version": "3.6.5"
  }
 },
 "nbformat": 4,
 "nbformat_minor": 1
}
