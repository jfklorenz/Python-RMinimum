{
 "cells": [
  {
   "cell_type": "markdown",
   "metadata": {},
   "source": [
    "RMinimum : Full - Test"
   ]
  },
  {
   "cell_type": "code",
   "execution_count": 1,
   "metadata": {},
   "outputs": [],
   "source": [
    "import math\n",
    "import random\n",
    "import queue"
   ]
  },
  {
   "cell_type": "markdown",
   "metadata": {},
   "source": [
    "Testfall : $X = [0, \\cdots, n-1]$, $k$"
   ]
  },
  {
   "cell_type": "code",
   "execution_count": 2,
   "metadata": {},
   "outputs": [
    {
     "name": "stdout",
     "output_type": "stream",
     "text": [
      "          Testcase:          \n",
      "=============================\n",
      "X = [0, ..., 1023]\n",
      "k = 32\n"
     ]
    }
   ],
   "source": [
    "# User input\n",
    "n = 2**10\n",
    "k = 2**5\n",
    "\n",
    "# Automatic\n",
    "X = [i for i in range(n)]\n",
    "\n",
    "# Show Testcase\n",
    "print('          Testcase:          ')\n",
    "print('=============================')\n",
    "print('X = [0, ..., ' + str(n - 1) + ']')\n",
    "print('k =', k)"
   ]
  },
  {
   "cell_type": "markdown",
   "metadata": {},
   "source": [
    "Algorithmus : Full"
   ]
  },
  {
   "cell_type": "code",
   "execution_count": 3,
   "metadata": {},
   "outputs": [
    {
     "ename": "NameError",
     "evalue": "name 'inp' is not defined",
     "traceback": [
      "\u001b[1;31m---------------------------------------------------------------------------\u001b[0m",
      "\u001b[1;31mNameError\u001b[0m                                 Traceback (most recent call last)",
      "\u001b[1;32m<ipython-input-3-8a7bf01146d0>\u001b[0m in \u001b[0;36m<module>\u001b[1;34m()\u001b[0m\n\u001b[0;32m    145\u001b[0m \u001b[1;31m# ==================================================\u001b[0m\u001b[1;33m\u001b[0m\u001b[1;33m\u001b[0m\u001b[0m\n\u001b[0;32m    146\u001b[0m \u001b[1;31m# Testcase\u001b[0m\u001b[1;33m\u001b[0m\u001b[1;33m\u001b[0m\u001b[0m\n\u001b[1;32m--> 147\u001b[1;33m \u001b[0mmini\u001b[0m\u001b[1;33m,\u001b[0m \u001b[0mcnt\u001b[0m\u001b[1;33m,\u001b[0m \u001b[0mrec\u001b[0m \u001b[1;33m=\u001b[0m \u001b[0mrminimum\u001b[0m\u001b[1;33m(\u001b[0m\u001b[0mX\u001b[0m\u001b[1;33m,\u001b[0m \u001b[0mk\u001b[0m\u001b[1;33m)\u001b[0m\u001b[1;33m\u001b[0m\u001b[0m\n\u001b[0m",
      "\u001b[1;32m<ipython-input-3-8a7bf01146d0>\u001b[0m in \u001b[0;36mrminimum\u001b[1;34m(X, k, cnt, rec)\u001b[0m\n\u001b[0;32m      2\u001b[0m \u001b[1;33m\u001b[0m\u001b[0m\n\u001b[0;32m      3\u001b[0m     \u001b[1;31m# Check input\u001b[0m\u001b[1;33m\u001b[0m\u001b[1;33m\u001b[0m\u001b[0m\n\u001b[1;32m----> 4\u001b[1;33m     \u001b[0mX\u001b[0m \u001b[1;33m=\u001b[0m \u001b[0minp\u001b[0m\u001b[1;33m(\u001b[0m\u001b[0mX\u001b[0m\u001b[1;33m)\u001b[0m\u001b[1;33m\u001b[0m\u001b[0m\n\u001b[0m\u001b[0;32m      5\u001b[0m \u001b[1;33m\u001b[0m\u001b[0m\n\u001b[0;32m      6\u001b[0m     \u001b[1;31m# Generate empty cnt list if its not a recursive call\u001b[0m\u001b[1;33m\u001b[0m\u001b[1;33m\u001b[0m\u001b[0m\n",
      "\u001b[1;31mNameError\u001b[0m: name 'inp' is not defined"
     ],
     "output_type": "error"
    }
   ],
   "source": [
    "def rminimum(X, k, cnt = [], rec = 0):\n",
    "\n",
    "    # Generate empty cnt list if its not a recursive call\n",
    "    if cnt == []:\n",
    "        cnt = [0 for _ in range(max(X) + 1)]\n",
    "\n",
    "    # Convert parameters if needed\n",
    "    k = int(k)\n",
    "    n = len(X)\n",
    "\n",
    "    # Base case |X| = 3\n",
    "    if len(X) == 3:\n",
    "        if X[0] < X[1]:\n",
    "            cnt[X[0]] += 2\n",
    "            cnt[X[1]] += 1\n",
    "            cnt[X[2]] += 1\n",
    "\n",
    "            if X[0] < X[2]:\n",
    "                mini = X[0]\n",
    "            else:\n",
    "                mini = X[2]\n",
    "        else:\n",
    "            cnt[X[0]] += 1\n",
    "            cnt[X[1]] += 2\n",
    "            cnt[X[2]] += 1\n",
    "\n",
    "            if X[1] < X[2]:\n",
    "                mini = X[1]\n",
    "            else:\n",
    "                mini = X[2]\n",
    "        return mini, cnt, rec\n",
    "\n",
    "    # Run phases\n",
    "    W, L, cnt = phase1(X, cnt)\n",
    "    M, cnt = phase2(L, k, cnt)\n",
    "    Wnew, cnt = phase3(W, k, M, cnt)\n",
    "    mini, cnt, rec = phase4(Wnew, k, n, cnt, rec)\n",
    "\n",
    "    return mini, cnt, rec\n",
    "\n",
    "    return mini, cnt, rec\n",
    "\n",
    "# --------------------------------------------------\n",
    "def phase1(X, cnt):\n",
    "\n",
    "    # Init W, L\n",
    "    W = [0 for _ in range(len(X) // 2)]\n",
    "    L = [0 for _ in range(len(X) // 2)]\n",
    "\n",
    "    # Random pairs\n",
    "    random.shuffle(X)\n",
    "    for i in range(len(X) // 2):\n",
    "        if X[2 * i] > X[2 * i + 1]:\n",
    "            W[i] = X[2 * i + 1]\n",
    "            L[i] = X[2 * i]\n",
    "        else:\n",
    "            W[i] = X[2 * i]\n",
    "            L[i] = X[2 * i + 1]\n",
    "        cnt[X[2 * i + 1]] += 1\n",
    "        cnt[X[2 * i]] += 1\n",
    "\n",
    "    return W, L, cnt\n",
    "\n",
    "# --------------------------------------------------\n",
    "def phase2(L, k, cnt):\n",
    "    \n",
    "    # Generate subsets\n",
    "    random.shuffle(L)\n",
    "    subsets = [L[i * k:(i + 1) * k] for i in range((len(L) + k - 1) // k)]\n",
    "\n",
    "    # Init M\n",
    "    M = [0 for _ in range(len(subsets))]\n",
    "\n",
    "    # Perfectly balanced tournament tree using a Queue\n",
    "    for i in range(len(subsets)):\n",
    "        q = queue.Queue()\n",
    "\n",
    "        for ele in subsets[i]:\n",
    "            q.put(ele)\n",
    "\n",
    "        while q.qsize() > 1:\n",
    "            a = q.get()\n",
    "            b = q.get()\n",
    "\n",
    "            if a < b:\n",
    "                q.put(a)\n",
    "            else:\n",
    "                q.put(b)\n",
    "            cnt[a] += 1\n",
    "            cnt[b] += 1\n",
    "        M[i] = q.get()\n",
    "\n",
    "    return M, cnt\n",
    "\n",
    "# --------------------------------------------------\n",
    "def phase3(W, k, M, cnt):\n",
    "\n",
    "    # Generate subsets\n",
    "    random.shuffle(W)\n",
    "    W_i = [W[i * k:(i + 1) * k] for i in range((len(W) + k - 1) // k)]\n",
    "    subsets_filtered = [0 for _ in range(len(subsets))]\n",
    "\n",
    "    # Filter subsets\n",
    "    for i in range(len(subsets_filtered)):\n",
    "        subsets_filtered[i] = [elem for elem in subsets[i] if elem < M[i]]\n",
    "        cnt[M[i]] += len(subsets[i])\n",
    "        for elem in subsets[i]:\n",
    "            cnt[elem] += 1\n",
    "\n",
    "    # Merge subsets\n",
    "    Wnew = [item for sublist in subsets_filtered for item in sublist]\n",
    "\n",
    "    return Wnew, cnt\n",
    "\n",
    "# --------------------------------------------------\n",
    "def phase4(Wnew, k, n0, cnt, rec):\n",
    "    # Recursive call check\n",
    "    if len(Wnew) <= math.log(n0, 2) ** 2:\n",
    "        q = queue.Queue()\n",
    "\n",
    "        for ele in Wnew:\n",
    "            q.put(ele)\n",
    "        while q.qsize() > 1:\n",
    "            a = q.get()\n",
    "            b = q.get()\n",
    "\n",
    "            if a < b:\n",
    "                q.put(a)\n",
    "            else:\n",
    "                q.put(b)\n",
    "\n",
    "            cnt[a] += 1\n",
    "            cnt[b] += 1\n",
    "        mini = q.get()\n",
    "\n",
    "        return mini, cnt, rec\n",
    "\n",
    "    else:\n",
    "        rec += 1\n",
    "        rminimum(Wnew, k, cnt, rec)\n",
    "\n",
    "# ==================================================\n",
    "# Testcase\n",
    "mini, cnt, rec = rminimum(X, k)"
   ]
  },
  {
   "cell_type": "markdown",
   "metadata": {},
   "source": [
    "Resultat :"
   ]
  },
  {
   "cell_type": "code",
   "execution_count": 17,
   "metadata": {},
   "outputs": [
    {
     "name": "stdout",
     "output_type": "stream",
     "text": [
      "\n",
      "Testfall n / k: 1024 / 32\n",
      "====================================\n",
      "Fragile Complexity:\n",
      "f_min      : 8\n",
      "f_rem      : 40\n",
      "f_n        : 40\n",
      "Work       : 1747\n",
      "====================================\n",
      "Process:\n",
      "---------\n",
      "Minimum    : 0\n",
      "n          : 1024\n",
      "log(n)     : 10.0\n",
      "log(k)     : 5.0\n",
      "lg / lglg  : 3\n",
      "n / log(n) : 102\n",
      "====================================\n"
     ]
    }
   ],
   "source": [
    "def test(X, k, mini, cnt, rec):\n",
    "    \n",
    "    print('')\n",
    "    print('Testfall n / k:', len(X), '/', k)\n",
    "    print('====================================')\n",
    "    print('Fragile Complexity:')\n",
    "    print('-------------------')\n",
    "    print('f_min      :', cnt[0])\n",
    "    print('f_rem      :', max(cnt[1:]))\n",
    "    print('f_n        :', max(cnt))\n",
    "    print('Work       :', int(sum(cnt)/2))\n",
    "    print('====================================')\n",
    "    print('Process:')\n",
    "    print('--------')\n",
    "    print('Minimum    :', mini)\n",
    "    print('n          :', len(X))\n",
    "    print('log(n)     :', round(math.log(len(X), 2), 2))\n",
    "    print('log(k)     :', round(math.log(k, 2), 2))\n",
    "    print('lg / lglg  :', round(math.log(len(X), 2) / math.log(math.log(len(X), 2), 2)))\n",
    "    print('n / log(n) :', round(len(X) / math.log(len(X), 2)))\n",
    "    print('====================================')\n",
    "    return\n",
    "\n",
    "# Testfall\n",
    "test(X, k, mini, cnt, rec)"
   ]
  },
  {
   "cell_type": "code",
   "execution_count": 1,
   "metadata": {},
   "outputs": [
    {
     "name": "stdout",
     "output_type": "stream",
     "text": [
      "[2, 3]\n"
     ]
    }
   ],
   "source": [
    ""
   ]
  },
  {
   "cell_type": "code",
   "execution_count": null,
   "metadata": {},
   "outputs": [],
   "source": [
    ""
   ]
  }
 ],
 "metadata": {
  "kernelspec": {
   "display_name": "Python 3",
   "language": "python",
   "name": "python3"
  },
  "language_info": {
   "codemirror_mode": {
    "name": "ipython",
    "version": 3.0
   },
   "file_extension": ".py",
   "mimetype": "text/x-python",
   "name": "python",
   "nbconvert_exporter": "python",
   "pygments_lexer": "ipython3",
   "version": "3.6.5"
  }
 },
 "nbformat": 4,
 "nbformat_minor": 0
}