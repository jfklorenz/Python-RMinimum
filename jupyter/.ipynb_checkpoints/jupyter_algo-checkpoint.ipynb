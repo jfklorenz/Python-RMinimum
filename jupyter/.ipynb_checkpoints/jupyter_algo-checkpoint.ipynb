{
 "cells": [
  {
   "cell_type": "markdown",
   "metadata": {},
   "source": [
    "RMinimum : Full - Test"
   ]
  },
  {
   "cell_type": "markdown",
   "metadata": {},
   "source": [
    "This file is for testing the values of all parameters."
   ]
  },
  {
   "cell_type": "code",
   "execution_count": 28,
   "metadata": {},
   "outputs": [],
   "source": [
    "import math\n",
    "import random\n",
    "import queue"
   ]
  },
  {
   "cell_type": "markdown",
   "metadata": {},
   "source": [
    "Testfall : $X = [0, \\cdots, n-1]$, $k$"
   ]
  },
  {
   "cell_type": "code",
   "execution_count": 34,
   "metadata": {},
   "outputs": [
    {
     "name": "stdout",
     "output_type": "stream",
     "text": [
      "          Testcase:          \n",
      "=============================\n",
      "No valid testcase. k(n) must be an INT value.\n",
      "=============================\n"
     ]
    }
   ],
   "source": [
    "# User input\n",
    "n = 2**8\n",
    "k = 2**2+0.2\n",
    "\n",
    "# Automatic\n",
    "X = [i for i in range(n)]\n",
    "kf = math.floor(math.log(n, 2)/math.log(math.log(n, 2), 2)) == k\n",
    "kc = math.ceil(math.log(n, 2)/math.log(math.log(n, 2), 2)) == k\n",
    "ke = False\n",
    "for i in range(1, 10):\n",
    "    if int(k) == int(n**(1/(2**i))):\n",
    "        ke = True\n",
    "\n",
    "# Show Testcase\n",
    "print('          Testcase:          ')\n",
    "print('=============================')\n",
    "if not isinstance(k, int):\n",
    "    print('No valid testcase. k(n) must be an INT value.')\n",
    "elif n % 2 == 1:\n",
    "    print('No valid testcase. n must be even.')\n",
    "else:\n",
    "    print('Parameter')\n",
    "    print('---------')\n",
    "    print('X = [0, ..., ' + str(n - 1) + ']')\n",
    "    print('k =', k)\n",
    "    print('=============================')\n",
    "    print('Case')\n",
    "    print('----')\n",
    "    print('k(n) = n^eps for 1/2, 1/4, ...  :', ke)\n",
    "    print('Floored k(n) = log(n)/loglog(n) :', kf)\n",
    "    print('Ceiled  k(n) = log(n)/loglog(n) :', kc)\n",
    "print('=============================')"
   ]
  },
  {
   "cell_type": "markdown",
   "metadata": {},
   "source": [
    "Algorithmus : Full"
   ]
  },
  {
   "cell_type": "code",
   "execution_count": 30,
   "metadata": {},
   "outputs": [
    {
     "name": "stdout",
     "output_type": "stream",
     "text": [
      "4.54 ms ± 25.9 µs per loop (mean ± std. dev. of 7 runs, 100 loops each)\n"
     ]
    }
   ],
   "source": [
    "def rminimum(X, k, cnt = [], rec = 0):\n",
    "\n",
    "    # Generate empty cnt list if its not a recursive call\n",
    "    if cnt == []:\n",
    "        cnt = [0 for _ in range(max(X) + 1)]\n",
    "\n",
    "    # Convert parameters if needed\n",
    "    k = int(k)\n",
    "    n = len(X)\n",
    "\n",
    "    # Base case |X| = 3\n",
    "    if len(X) == 3:\n",
    "        if X[0] < X[1]:\n",
    "            cnt[X[0]] += 2\n",
    "            cnt[X[1]] += 1\n",
    "            cnt[X[2]] += 1\n",
    "\n",
    "            if X[0] < X[2]:\n",
    "                mini = X[0]\n",
    "            else:\n",
    "                mini = X[2]\n",
    "        else:\n",
    "            cnt[X[0]] += 1\n",
    "            cnt[X[1]] += 2\n",
    "            cnt[X[2]] += 1\n",
    "\n",
    "            if X[1] < X[2]:\n",
    "                mini = X[1]\n",
    "            else:\n",
    "                mini = X[2]\n",
    "        return mini, cnt, rec\n",
    "\n",
    "    # Run phases\n",
    "    W, L, cnt = phase1(X, cnt)\n",
    "    M, cnt = phase2(L, k, cnt)\n",
    "    Wnew, cnt = phase3(W, k, M, cnt)\n",
    "    mini, cnt, rec = phase4(Wnew, k, n, cnt, rec)\n",
    "\n",
    "    return mini, cnt, rec\n",
    "\n",
    "# --------------------------------------------------\n",
    "#   Phase 1\n",
    "def phase1(X, cnt):\n",
    "\n",
    "    # Init W, L\n",
    "    W = [0 for _ in range(len(X) // 2)]\n",
    "    L = [0 for _ in range(len(X) // 2)]\n",
    "\n",
    "    # Random pairs\n",
    "    random.shuffle(X)\n",
    "    for i in range(len(X) // 2):\n",
    "        if X[2 * i] > X[2 * i + 1]:\n",
    "            W[i] = X[2 * i + 1]\n",
    "            L[i] = X[2 * i]\n",
    "        else:\n",
    "            W[i] = X[2 * i]\n",
    "            L[i] = X[2 * i + 1]\n",
    "        cnt[X[2 * i + 1]] += 1\n",
    "        cnt[X[2 * i]] += 1\n",
    "\n",
    "    return W, L, cnt\n",
    "\n",
    "# --------------------------------------------------\n",
    "#   Phase 2\n",
    "def phase2(L, k, cnt):\n",
    "\n",
    "    # Generate subsets\n",
    "    random.shuffle(L)\n",
    "    subsets = [L[i * k:(i + 1) * k] for i in range((len(L) + k - 1) // k)]\n",
    "\n",
    "    # Init M\n",
    "    M = [0 for _ in range(len(subsets))]\n",
    "\n",
    "    # Perfectly balanced tournament tree using a Queue\n",
    "    for i in range(len(subsets)):\n",
    "        q = queue.Queue()\n",
    "\n",
    "        for ele in subsets[i]:\n",
    "            q.put(ele)\n",
    "\n",
    "        while q.qsize() > 1:\n",
    "            a = q.get()\n",
    "            b = q.get()\n",
    "\n",
    "            if a < b:\n",
    "                q.put(a)\n",
    "            else:\n",
    "                q.put(b)\n",
    "            cnt[a] += 1\n",
    "            cnt[b] += 1\n",
    "        M[i] = q.get()\n",
    "\n",
    "    return M, cnt\n",
    "\n",
    "# --------------------------------------------------\n",
    "#   Phase 3\n",
    "def phase3(W, k, M, cnt):\n",
    "\n",
    "    # Generate subsets\n",
    "    random.shuffle(W)\n",
    "    W_i = [W[i * k:(i + 1) * k] for i in range((len(W) + k - 1) // k)]\n",
    "    W_i_filt = [0 for _ in range(len(W_i))]\n",
    "\n",
    "    # Filter subsets\n",
    "    for i in range(len(W_i_filt)):\n",
    "        W_i_filt[i] = [elem for elem in W_i[i] if elem < M[i]]\n",
    "        cnt[M[i]] += len(W_i[i])\n",
    "        for elem in W_i[i]:\n",
    "            cnt[elem] += 1\n",
    "\n",
    "    # Merge subsets\n",
    "    Wnew = [w for sublist in W_i_filt for w in sublist]\n",
    "\n",
    "    return Wnew, cnt\n",
    "\n",
    "# --------------------------------------------------\n",
    "#   Phase 4\n",
    "def phase4(Wnew, k, n0, cnt, rec):\n",
    "    \n",
    "    # Recursive call check\n",
    "    if len(Wnew) <= math.log(n0, 2) ** 2:\n",
    "        q = queue.Queue()\n",
    "\n",
    "        for ele in Wnew:\n",
    "            q.put(ele)\n",
    "        while q.qsize() > 1:\n",
    "            a = q.get()\n",
    "            b = q.get()\n",
    "\n",
    "            if a < b:\n",
    "                q.put(a)\n",
    "            else:\n",
    "                q.put(b)\n",
    "\n",
    "            cnt[a] += 1\n",
    "            cnt[b] += 1\n",
    "        mini = q.get()\n",
    "        return mini, cnt, rec\n",
    "\n",
    "    else:\n",
    "        rec += 1\n",
    "        return rminimum(Wnew, k, cnt, rec)\n",
    "\n",
    "# ==================================================\n",
    "# Testcase\n",
    "mini, cnt, rec = rminimum(X, k)"
   ]
  },
  {
   "cell_type": "markdown",
   "metadata": {},
   "source": [
    "Resultat :"
   ]
  },
  {
   "cell_type": "code",
   "execution_count": 25,
   "metadata": {},
   "outputs": [
    {
     "name": "stdout",
     "output_type": "stream",
     "text": [
      "\n",
      "Testfall n / k: 65536 / 4\n",
      "====================================\n",
      "Fragile Complexity:\n",
      "-------------------\n",
      "f_min      : 18\n",
      "f_rem      : 17\n",
      "f_n        : 18\n",
      "Work       : 129986\n",
      "====================================\n",
      "Process:\n",
      "--------\n",
      "Minimum    : 0\n",
      "n          : 65536\n",
      "log(n)     : 16.0\n",
      "log(k)     : 2.0\n",
      "lg / lglg  : 4\n",
      "n / log(n) : 4096\n",
      "====================================\n"
     ]
    }
   ],
   "source": [
    "def test(X, k, mini, cnt, rec):\n",
    "    \n",
    "    print('')\n",
    "    print('Testfall n / k:', len(X), '/', k)\n",
    "    print('====================================')\n",
    "    print('Fragile Complexity:')\n",
    "    print('-------------------')\n",
    "    print('f_min      :', cnt[0])\n",
    "    print('f_rem      :', max(cnt[1:]))\n",
    "    print('f_n        :', max(cnt))\n",
    "    print('Work       :', int(sum(cnt)/2))\n",
    "    print('====================================')\n",
    "    print('Process:')\n",
    "    print('--------')\n",
    "    print('Minimum    :', mini)\n",
    "    print('n          :', len(X))\n",
    "    print('log(n)     :', round(math.log(len(X), 2), 2))\n",
    "    print('log(k)     :', round(math.log(k, 2), 2))\n",
    "    print('lg / lglg  :', round(math.log(len(X), 2) / math.log(math.log(len(X), 2), 2)))\n",
    "    print('n / log(n) :', round(len(X) / math.log(len(X), 2)))\n",
    "    print('====================================')\n",
    "    return\n",
    "\n",
    "# Testfall\n",
    "test(X, k, mini, cnt, rec)"
   ]
  },
  {
   "cell_type": "code",
   "execution_count": 1,
   "metadata": {},
   "outputs": [
    {
     "name": "stdout",
     "output_type": "stream",
     "text": [
      "[2, 3]\n"
     ]
    }
   ],
   "source": []
  },
  {
   "cell_type": "code",
   "execution_count": null,
   "metadata": {},
   "outputs": [],
   "source": []
  }
 ],
 "metadata": {
  "kernelspec": {
   "display_name": "Python 3",
   "language": "python",
   "name": "python3"
  },
  "language_info": {
   "codemirror_mode": {
    "name": "ipython",
    "version": 3
   },
   "file_extension": ".py",
   "mimetype": "text/x-python",
   "name": "python",
   "nbconvert_exporter": "python",
   "pygments_lexer": "ipython3",
   "version": "3.6.5"
  }
 },
 "nbformat": 4,
 "nbformat_minor": 1
}
