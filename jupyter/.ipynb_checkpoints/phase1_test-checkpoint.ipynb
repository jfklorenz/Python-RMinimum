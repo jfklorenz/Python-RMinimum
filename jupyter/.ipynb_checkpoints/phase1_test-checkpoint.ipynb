{
 "cells": [
  {
   "cell_type": "markdown",
   "metadata": {},
   "source": [
    "RMinimum : Phase 1 - Test"
   ]
  },
  {
   "cell_type": "code",
   "execution_count": 21,
   "metadata": {},
   "outputs": [],
   "source": [
    "import random"
   ]
  },
  {
   "cell_type": "markdown",
   "metadata": {},
   "source": [
    "Testfall:"
   ]
  },
  {
   "cell_type": "code",
   "execution_count": 22,
   "metadata": {},
   "outputs": [],
   "source": [
    "n = 2**10\n",
    "\n",
    "X = [i for i in range(n)]\n",
    "cnt = [0 for _ in range(n)]"
   ]
  },
  {
   "cell_type": "markdown",
   "metadata": {},
   "source": [
    "Algorithmus : Phase 1"
   ]
  },
  {
   "cell_type": "code",
   "execution_count": 23,
   "metadata": {},
   "outputs": [],
   "source": [
    "def phase1(lst, cnt):\n",
    "    \n",
    "    random.shuffle(lst)\n",
    "\n",
    "    W = [0 for _ in range(len(lst) // 2)]\n",
    "    L = [0 for _ in range(len(lst) // 2)]\n",
    "\n",
    "    for i in range(len(lst) // 2):\n",
    "        if lst[2 * i] > lst[2 * i + 1]:\n",
    "            W[i] = lst[2 * i + 1]\n",
    "            L[i] = lst[2 * i]\n",
    "        else:\n",
    "            W[i] = lst[2 * i]\n",
    "            L[i] = lst[2 * i + 1]\n",
    "        cnt[lst[2 * i + 1]] += 1\n",
    "        cnt[lst[2 * i]] += 1\n",
    "\n",
    "    return W, L, cnt\n",
    "\n",
    "# Testfall\n",
    "W, L, cnt = phase1(X, cnt)"
   ]
  },
  {
   "cell_type": "markdown",
   "metadata": {},
   "source": [
    "Resultat :"
   ]
  },
  {
   "cell_type": "code",
   "execution_count": 24,
   "metadata": {},
   "outputs": [
    {
     "name": "stdout",
     "output_type": "stream",
     "text": [
      "Testfall n: 1024\n",
      "====================================\n",
      "|W| / |L| : 512 / 512\n",
      "max(cnt)  : 1\n",
      "====================================\n"
     ]
    }
   ],
   "source": [
    "def test(X, W, L, cnt):\n",
    "    \n",
    "    n = len(X)\n",
    "    w = len(W)\n",
    "    l = len(L)\n",
    "    mx = max(cnt)\n",
    "    \n",
    "    print('')\n",
    "    print('Testfall n:', n)\n",
    "    print('====================================')\n",
    "    print('|W| / |L| :', w, '/', l)\n",
    "    print('max(cnt)  :', mx)\n",
    "    print('====================================')\n",
    "    return\n",
    "\n",
    "# Testfall\n",
    "test(X, W, L, cnt)"
   ]
  },
  {
   "cell_type": "code",
   "execution_count": null,
   "metadata": {},
   "outputs": [],
   "source": []
  }
 ],
 "metadata": {
  "kernelspec": {
   "display_name": "Python 3",
   "language": "python",
   "name": "python3"
  },
  "language_info": {
   "codemirror_mode": {
    "name": "ipython",
    "version": 3
   },
   "file_extension": ".py",
   "mimetype": "text/x-python",
   "name": "python",
   "nbconvert_exporter": "python",
   "pygments_lexer": "ipython3",
   "version": "3.6.5"
  }
 },
 "nbformat": 4,
 "nbformat_minor": 2
}
