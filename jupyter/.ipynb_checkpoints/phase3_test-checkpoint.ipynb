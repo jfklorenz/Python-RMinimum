{
 "cells": [
  {
   "cell_type": "markdown",
   "metadata": {},
   "source": [
    "RMinimum : Phase 3 - Test"
   ]
  },
  {
   "cell_type": "code",
   "execution_count": 11,
   "metadata": {},
   "outputs": [],
   "source": [
    "import random"
   ]
  },
  {
   "cell_type": "markdown",
   "metadata": {},
   "source": [
    "Testfall:"
   ]
  },
  {
   "cell_type": "code",
   "execution_count": 48,
   "metadata": {},
   "outputs": [],
   "source": [
    "n = 2**10\n",
    "k = 2**8\n",
    "\n",
    "X = [i for i in range(n)]"
   ]
  },
  {
   "cell_type": "markdown",
   "metadata": {},
   "source": [
    "Algorithmus : Phase 3"
   ]
  },
  {
   "cell_type": "code",
   "execution_count": 49,
   "metadata": {},
   "outputs": [],
   "source": [
    "def phase3(lst, k, minele, cnt = False):\n",
    "    \n",
    "    \n",
    "    random.shuffle(lst)\n",
    "    var = [lst[i * k:(i + 1) * k] for i in range((len(lst) + k - 1) // k)]\n",
    "    res = [0 for _ in range(len(var))]\n",
    "\n",
    "    for i in range(len(var)):\n",
    "        res[i] = [elem for elem in var[i] if elem < minele[i]]\n",
    "        cnt[minele[i]] += len(var[i])\n",
    "        for elem in var[i]:\n",
    "            cnt[elem] += 1\n",
    "\n",
    "    res = [item for sublist in res for item in sublist]\n",
    "\n",
    "    return res, var, cnt\n",
    "\n",
    "# Testfall\n",
    "res, var, cnt = phase3(X, k, minele, cnt)"
   ]
  },
  {
   "cell_type": "markdown",
   "metadata": {},
   "source": [
    "Resultat :"
   ]
  },
  {
   "cell_type": "code",
   "execution_count": 50,
   "metadata": {},
   "outputs": [
    {
     "name": "stdout",
     "output_type": "stream",
     "text": [
      "Testfall n / k: 1024 / 256\n",
      "====================================\n",
      "# W_i    : 4\n",
      "|MinEle| : 4\n",
      "------------------------------------\n",
      "|W_i|    : 256\n",
      "max(cnt) : 256\n",
      "------------------------------------\n",
      "Filter   : 512\n",
      "|U W_i|  : 512\n",
      "====================================\n"
     ]
    }
   ],
   "source": [
    "def test(X, k, g, res, var, minele, cnt):\n",
    "    \n",
    "    n = len(X)\n",
    "    r = len(res)\n",
    "    m = len(minele)\n",
    "    v = len(var)\n",
    "    vs = len(var[0])\n",
    "    mx = max(cnt)\n",
    "    \n",
    "    print('')\n",
    "    print('Testfall n / k:', n, '/', k)\n",
    "    print('====================================')\n",
    "    print('# W_i    :', v)\n",
    "    print('|MinEle| :', m)\n",
    "    print('------------------------------------')\n",
    "    print('|W_i|    :', vs)\n",
    "    print('max(cnt) :', mx)\n",
    "    print('------------------------------------')\n",
    "    print('Filter   :', g)\n",
    "    print('|U W_i|  :', r)\n",
    "    print('====================================')\n",
    "    return\n",
    "\n",
    "# Testfall\n",
    "test(X, k, g, res, var, minele, cnt)"
   ]
  },
  {
   "cell_type": "code",
   "execution_count": null,
   "metadata": {},
   "outputs": [],
   "source": []
  },
  {
   "cell_type": "code",
   "execution_count": null,
   "metadata": {},
   "outputs": [],
   "source": []
  }
 ],
 "metadata": {
  "kernelspec": {
   "display_name": "Python 3",
   "language": "python",
   "name": "python3"
  },
  "language_info": {
   "codemirror_mode": {
    "name": "ipython",
    "version": 3
   },
   "file_extension": ".py",
   "mimetype": "text/x-python",
   "name": "python",
   "nbconvert_exporter": "python",
   "pygments_lexer": "ipython3",
   "version": "3.6.5"
  }
 },
 "nbformat": 4,
 "nbformat_minor": 2
}
