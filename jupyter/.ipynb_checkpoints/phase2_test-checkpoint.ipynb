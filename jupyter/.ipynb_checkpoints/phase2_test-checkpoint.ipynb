{
 "cells": [
  {
   "cell_type": "markdown",
   "metadata": {},
   "source": [
    "RMinimum : Phase 2 - Test"
   ]
  },
  {
   "cell_type": "code",
   "execution_count": 16,
   "metadata": {},
   "outputs": [],
   "source": [
    "import random\n",
    "import queue\n",
    "import math"
   ]
  },
  {
   "cell_type": "markdown",
   "metadata": {},
   "source": [
    "Testfall:"
   ]
  },
  {
   "cell_type": "code",
   "execution_count": 32,
   "metadata": {},
   "outputs": [],
   "source": [
    "n = 20\n",
    "k = 5\n",
    "\n",
    "X = [i for i in range(n)]\n",
    "cnt = [0 for _ in range(n)]"
   ]
  },
  {
   "cell_type": "markdown",
   "metadata": {},
   "source": [
    "Algorithmus : Phase 2"
   ]
  },
  {
   "cell_type": "code",
   "execution_count": 33,
   "metadata": {},
   "outputs": [],
   "source": [
    "def phase2(L, k, cnt):\n",
    "\n",
    "    random.shuffle(L)\n",
    "    \n",
    "    res = [L[i * k:(i + 1) * k] for i in range((len(L) + k - 1) // k)]\n",
    "    minele = [0 for _ in range(len(res))]\n",
    "\n",
    "    var = list(res)\n",
    "    for i in range(len(var)):\n",
    "        q = queue.Queue()\n",
    "\n",
    "        for item in var[i]:\n",
    "            q.put(item)\n",
    "\n",
    "        while q.qsize() > 1:\n",
    "            a = q.get()\n",
    "            b = q.get()\n",
    "\n",
    "            if a < b:\n",
    "                q.put(a)\n",
    "            else:\n",
    "                q.put(b)\n",
    "            cnt[a] += 1\n",
    "            cnt[b] += 1\n",
    "        minele[i] = q.get()\n",
    "\n",
    "    return minele, res, cnt\n",
    "\n",
    "# Testfall\n",
    "me, res, cnt = phase2(X, k, cnt)"
   ]
  },
  {
   "cell_type": "markdown",
   "metadata": {},
   "source": [
    "Resultat :"
   ]
  },
  {
   "cell_type": "code",
   "execution_count": 31,
   "metadata": {},
   "outputs": [
    {
     "name": "stdout",
     "output_type": "stream",
     "text": [
      "Testfall n / k: 3 / 3\n",
      "====================================\n",
      "# L_i :    1\n",
      "|L_i| :    3\n",
      "# min :    1\n",
      "max(cnt) : 2\n",
      "log(k) : 2\n",
      "====================================\n",
      "[2, 1, 1]\n"
     ]
    }
   ],
   "source": [
    "def test(X, k, res, me, cnt):\n",
    "    \n",
    "    n = len(X)\n",
    "    r = len(res)\n",
    "    rs = len(res[0])\n",
    "    m = len(me)\n",
    "    mx = max(cnt)\n",
    "    \n",
    "    print('')\n",
    "    print('Testfall n / k:', n, '/', k)\n",
    "    print('====================================')\n",
    "    print('# L_i    :', r)\n",
    "    print('|L_i|    :', rs)\n",
    "    print('# min    :', m)\n",
    "    print('max(cnt) :', mx)\n",
    "    print('log(k)   :', math.ceil(math.log(k)/math.log(2)))\n",
    "    print('====================================')\n",
    "    return\n",
    "\n",
    "# Testfall\n",
    "test(X, k, res, me, cnt)"
   ]
  },
  {
   "cell_type": "code",
   "execution_count": null,
   "metadata": {},
   "outputs": [],
   "source": []
  }
 ],
 "metadata": {
  "kernelspec": {
   "display_name": "Python 3",
   "language": "python",
   "name": "python3"
  },
  "language_info": {
   "codemirror_mode": {
    "name": "ipython",
    "version": 3
   },
   "file_extension": ".py",
   "mimetype": "text/x-python",
   "name": "python",
   "nbconvert_exporter": "python",
   "pygments_lexer": "ipython3",
   "version": "3.6.5"
  }
 },
 "nbformat": 4,
 "nbformat_minor": 2
}
