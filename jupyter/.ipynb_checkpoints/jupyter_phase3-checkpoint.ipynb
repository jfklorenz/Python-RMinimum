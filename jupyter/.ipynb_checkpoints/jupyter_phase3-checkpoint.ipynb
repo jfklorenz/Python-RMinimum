{
 "cells": [
  {
   "cell_type": "markdown",
   "metadata": {},
   "source": [
    "RMinimum : Phase 3 - Jupyter"
   ]
  },
  {
   "cell_type": "code",
   "execution_count": 1,
   "metadata": {},
   "outputs": [],
   "source": [
    "# Imports\n",
    "import random\n",
    "import math"
   ]
  },
  {
   "cell_type": "markdown",
   "metadata": {},
   "source": [
    "Testfall : $X = [0, \\cdots, n/2 - 1, n/2 + n/k, \\cdots, n+n/k]$, $|X|=n$, $minele = [n/2, \\cdots, n/2 + n/k - 1]$, $|minele| = n/k$, $k$"
   ]
  },
  {
   "cell_type": "code",
   "execution_count": 2,
   "metadata": {},
   "outputs": [
    {
     "name": "stdout",
     "output_type": "stream",
     "text": [
      "          Testcase:          \n",
      "=============================\n",
      "|W|   : 256\n",
      " n    : 256\n",
      "-----------------------------\n",
      "|M|   : 16\n",
      " n/k  : 16\n",
      "=============================\n"
     ]
    }
   ],
   "source": [
    "# User input\n",
    "n = 2**8\n",
    "k = 2**4\n",
    "\n",
    "# Automatic\n",
    "# W = [0, ..., 3/4 * n - 1, 3/4 * n + n/k, ..., n + n/k ]\n",
    "# M = [3/4 * n, ..., 3/4 * n + n/k - 1]\n",
    "W = [i for i in range(int(n + math.ceil(n / k)))]\n",
    "M = [i for i in range(int(3 / 4 * n), int(3 / 4 * n + math.ceil(n / k)))]\n",
    "for m in M:\n",
    "    if m in W:\n",
    "        W.remove(m)\n",
    "cnt = [0 for _ in range(int(n + math.ceil(n / k)))]\n",
    "\n",
    "# Show Testcase\n",
    "print('          Testcase:          ')\n",
    "print('=============================')\n",
    "print('|W|   :', len(W))\n",
    "print(' n    :', n)\n",
    "print('-----------------------------')\n",
    "print('|M|   :', len(M))\n",
    "print(' n/k  :', int(n/k))\n",
    "print('=============================')"
   ]
  },
  {
   "cell_type": "markdown",
   "metadata": {},
   "source": [
    "Algorithmus : Phase 3"
   ]
  },
  {
   "cell_type": "code",
   "execution_count": 7,
   "metadata": {},
   "outputs": [
    {
     "name": "stdout",
     "output_type": "stream",
     "text": [
      "16\n",
      "16\n",
      "397 µs ± 6.01 µs per loop (mean ± std. dev. of 7 runs, 1000 loops each)\n"
     ]
    }
   ],
   "source": [
    "def phase3(W, k, M, cnt):\n",
    "    random.shuffle(W)\n",
    "    subsets = [W[i * k:(i + 1) * k] for i in range((len(W) + k - 1) // k)]\n",
    "    subsets_filtered = [0 for _ in range(len(subsets))]\n",
    "\n",
    "    for i in range(len(subsets_filtered)):\n",
    "        subsets_filtered[i] = [elem for elem in subsets[i] if elem < M[i]]\n",
    "        cnt[M[i]] += len(subsets[i])\n",
    "        for elem in subsets[i]:\n",
    "            cnt[elem] += 1\n",
    "\n",
    "    Wnew = [item for sublist in subsets_filtered for item in sublist]\n",
    "    \n",
    "    return subsets, subsets_filtered, Wnew, cnt\n",
    "\n",
    "# ==================================================\n",
    "# Testfall\n",
    "subsets, subsets_filtered, Wnew, cnt = phase3(W, k, M, cnt)"
   ]
  },
  {
   "cell_type": "markdown",
   "metadata": {},
   "source": [
    "Resultat :"
   ]
  },
  {
   "cell_type": "code",
   "execution_count": 15,
   "metadata": {
    "scrolled": true
   },
   "outputs": [
    {
     "name": "stdout",
     "output_type": "stream",
     "text": [
      "\n",
      "Testfall n / k: 256 / 16\n",
      "====================================\n",
      "Size of subsets:\n",
      "----------------\n",
      "|W'| / |W| : 192 / 256 = 0.75\n",
      "|W_i|      : 16\n",
      "# W_i      : 16\n",
      "|M|        : 16\n",
      "-----------\n",
      "Validation: True\n",
      "====================================\n",
      "Fragile Complexity:\n",
      "-------------------\n",
      "min(f_w(n)) : 16225\n",
      "max(f_w(n)) : 16225\n",
      "min(f_m(n)) : 259600\n",
      "max(f_m(n)) : 259600\n",
      "-----------\n",
      "Validation: True\n",
      "====================================\n",
      "Process:\n",
      "--------\n",
      "# Ele filtered : 64\n",
      "-----------\n",
      "Validation: True\n",
      "====================================\n",
      "Other:\n",
      "------\n",
      "min(f_m(n)) = max(f_m(n)) : True\n",
      "# W_i       = |M|         : True\n",
      "            = n / k       : True\n",
      "====================================\n",
      "259600\n",
      "16\n"
     ]
    }
   ],
   "source": [
    "def test(W, Wnew, k, M, subsets, subsets_filtered, cnt):\n",
    "    \n",
    "    # Test: Filter\n",
    "    filt = True\n",
    "    \n",
    "    # No larger elements left\n",
    "    for w in Wnew:\n",
    "        if w > max(M):\n",
    "            filt = False\n",
    "    \n",
    "    # No larger elements in subsets according to the respective m_i\n",
    "    for subset in subsets_filtered:\n",
    "        for i in range(len(subsets_filtered)):\n",
    "            if max(subsets_filtered[i]) > M[i]:\n",
    "                filt = False\n",
    "    \n",
    "    print('')\n",
    "    print('Testfall n / k:', len(W), '/', k)\n",
    "    print('====================================')\n",
    "    print('Size of subsets:')\n",
    "    print('----------------')\n",
    "    print(\"|W'| / |W| :\", len(Wnew), '/', len(W), '=', round(len(Wnew)/len(W), 2))\n",
    "    print('|W_i|      :', len(subsets[0]))\n",
    "    print('# W_i      :', len(subsets))\n",
    "    print('|M|        :', len(M))\n",
    "    print('-----------')\n",
    "    print('Validation:', len(subsets) == len(M))\n",
    "    print('====================================')\n",
    "    print('Fragile Complexity:')\n",
    "    print('-------------------')\n",
    "    print('min(f_w(n)) :', min([cnt[w] for w in Wnew]))\n",
    "    print('max(f_w(n)) :', max([cnt[w] for w in Wnew]))\n",
    "    print('min(f_m(n)) :', min([cnt[m] for m in M]))\n",
    "    print('max(f_m(n)) :', max([cnt[m] for m in M]))\n",
    "    print('-----------')\n",
    "    print('Validation:',  min([cnt[w] for w in Wnew]) == min([cnt[w] for w in Wnew]) and min([cnt[m] for m in M]) == max([cnt[m] for m in M]))\n",
    "    print('====================================')\n",
    "    print('Process:')\n",
    "    print('--------')\n",
    "    print('# Ele filtered :', len(W) - len(Wnew))\n",
    "    print('-----------')\n",
    "    print('Validation:', filt)\n",
    "    print('====================================')\n",
    "    print('Other validations:')\n",
    "    print('------------------')\n",
    "    print('min(f_m(n)) = max(f_m(n)) :', min([cnt[m] for m in M]) == max([cnt[m] for m in M]))\n",
    "    print('# W_i       = |M|         :', len(subsets) == len(M))\n",
    "    print('            = n / k       :', len(M) == math.ceil(len(W) / k))\n",
    "    print('====================================')\n",
    "    print(max([cnt[m] for m in M]))\n",
    "    print(len(subsets))\n",
    "    return\n",
    "\n",
    "# ==================================================\n",
    "# Testfall\n",
    "test(W, Wnew, k, M, subsets, subsets_filtered, cnt)"
   ]
  },
  {
   "cell_type": "code",
   "execution_count": null,
   "metadata": {},
   "outputs": [],
   "source": []
  }
 ],
 "metadata": {
  "kernelspec": {
   "display_name": "Python 3",
   "language": "python",
   "name": "python3"
  },
  "language_info": {
   "codemirror_mode": {
    "name": "ipython",
    "version": 3
   },
   "file_extension": ".py",
   "mimetype": "text/x-python",
   "name": "python",
   "nbconvert_exporter": "python",
   "pygments_lexer": "ipython3",
   "version": "3.6.5"
  }
 },
 "nbformat": 4,
 "nbformat_minor": 1
}
