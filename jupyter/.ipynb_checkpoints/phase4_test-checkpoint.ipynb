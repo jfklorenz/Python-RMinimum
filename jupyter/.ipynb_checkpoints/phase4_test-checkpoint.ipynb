{
 "cells": [
  {
   "cell_type": "markdown",
   "metadata": {},
   "source": [
    "RMinimum : Phase 4 - Test"
   ]
  },
  {
   "cell_type": "code",
   "execution_count": 30,
   "metadata": {},
   "outputs": [],
   "source": [
    "import queue\n",
    "import math"
   ]
  },
  {
   "cell_type": "markdown",
   "metadata": {},
   "source": [
    "Testfall:"
   ]
  },
  {
   "cell_type": "code",
   "execution_count": 31,
   "metadata": {},
   "outputs": [],
   "source": [
    "w = 2**10\n",
    "n = 2**100\n",
    "\n",
    "W = [i for i in range(w)]\n",
    "cnt = [0 for _ in range(w)]"
   ]
  },
  {
   "cell_type": "markdown",
   "metadata": {},
   "source": [
    "Algorithmus : Phase 4"
   ]
  },
  {
   "cell_type": "code",
   "execution_count": 32,
   "metadata": {},
   "outputs": [
    {
     "name": "stdout",
     "output_type": "stream",
     "text": [
      "0\n"
     ]
    }
   ],
   "source": [
    "def phase4(newW, n, cnt):\n",
    "    \n",
    "    if len(newW) <= int((math.log(n)/math.log(2))**2):\n",
    "        q = queue.Queue()\n",
    "\n",
    "        var = list(newW)\n",
    "        for item in var:\n",
    "            q.put(item)\n",
    "        while q.qsize() > 1:\n",
    "            a = q.get()\n",
    "            b = q.get()\n",
    "\n",
    "            if a < b:\n",
    "                q.put(a)\n",
    "            else:\n",
    "                q.put(b)\n",
    "\n",
    "            cnt[a] += 1\n",
    "            cnt[b] += 1\n",
    "        res = q.get()\n",
    "\n",
    "    else:\n",
    "        res, cnt = False, False\n",
    "    \n",
    "    return res, cnt\n",
    "\n",
    "# Testfall\n",
    "res, cnt = phase4(W, n, cnt)\n",
    "print(res)"
   ]
  },
  {
   "cell_type": "markdown",
   "metadata": {},
   "source": [
    "Resultat :"
   ]
  },
  {
   "cell_type": "code",
   "execution_count": 44,
   "metadata": {},
   "outputs": [
    {
     "name": "stdout",
     "output_type": "stream",
     "text": [
      "\n",
      "Testfall log(n) / w / k: 100 / 1024 / 256\n",
      "====================================\n",
      "|W| / log^2(n_0)  : 1024 / 10000\n",
      "                 ==>\n",
      "|W| <= log^2(n_0) = True\n",
      "------------------------------------\n",
      "Min      : 0\n",
      "f_n      : 10\n",
      "log(|W|) : 10\n",
      "====================================\n"
     ]
    }
   ],
   "source": [
    "def test(w, n, res, cnt):\n",
    "    \n",
    "    lg = int(math.log(n)/math.log(2))\n",
    "    case = int(lg**2)   # |W| <= log^2(n_0)\n",
    "    tree = int(math.log(w)/math.log(2))\n",
    "    \n",
    "    if isinstance(res, int):\n",
    "        c = True\n",
    "        mx = max(cnt)\n",
    "    else:\n",
    "        c = False\n",
    "        mx = False\n",
    "        cnt = []\n",
    "\n",
    "    print('')\n",
    "    print('Testfall log(n) / w / k:', lg, '/', w, '/', k)\n",
    "    print('====================================')\n",
    "    print('|W| / log^2(n_0)  :', w, '/', case)\n",
    "    print('                 ==>')\n",
    "    print('|W| <= log^2(n_0) :', c)\n",
    "    print('------------------------------------')\n",
    "    print('Min      :', res)\n",
    "    print('f_n      :', mx)\n",
    "    print('log(|W|) :', tree)\n",
    "    print('====================================')\n",
    "    return\n",
    "\n",
    "# Testfall\n",
    "test(w, n, res, cnt)"
   ]
  },
  {
   "cell_type": "code",
   "execution_count": null,
   "metadata": {},
   "outputs": [],
   "source": []
  },
  {
   "cell_type": "code",
   "execution_count": null,
   "metadata": {},
   "outputs": [],
   "source": []
  },
  {
   "cell_type": "code",
   "execution_count": null,
   "metadata": {},
   "outputs": [],
   "source": []
  }
 ],
 "metadata": {
  "kernelspec": {
   "display_name": "Python 3",
   "language": "python",
   "name": "python3"
  },
  "language_info": {
   "codemirror_mode": {
    "name": "ipython",
    "version": 3
   },
   "file_extension": ".py",
   "mimetype": "text/x-python",
   "name": "python",
   "nbconvert_exporter": "python",
   "pygments_lexer": "ipython3",
   "version": "3.6.5"
  }
 },
 "nbformat": 4,
 "nbformat_minor": 2
}
